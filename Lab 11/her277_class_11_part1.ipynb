{
 "cells": [
  {
   "cell_type": "markdown",
   "metadata": {},
   "source": [
    "# Class 11: Part 1\n",
    "\n",
    "NYU Tandon C4SUE @avigailvantu , April 2021\n",
    "\n",
    "## Working and displaying line and polygon data \n",
    "GeoPandas can produce maps pretty quickly, with just a few lines of code. Today will look further into some data types and learn how not only create a map, but also how to control some aspects. In the first section of this class we will look into line data of bike lanes, polygon data (senior safe zones), and point data "
   ]
  },
  {
   "cell_type": "code",
   "execution_count": 10,
   "metadata": {},
   "outputs": [],
   "source": [
    "import pandas as pd\n",
    "import geopandas as gpd\n",
    "import numpy as np\n",
    "%matplotlib inline \n",
    "\n",
    "import matplotlib.pyplot as plt\n",
    "from shapely.geometry import Point\n",
    "from geopandas import GeoDataFrame\n",
    "from shapely.geometry import MultiPolygon"
   ]
  },
  {
   "cell_type": "markdown",
   "metadata": {},
   "source": [
    "Today we will see a few additional ways to work with spatial data on Jupyter. Last session we touched upon transforming data from dataframe into geodataframe. This is a cool way to map and visualize x,y data that comes in CSV files. Today we will load shpfiles into Jupyter. Because this is a geo based data it let's us visualize the data right away.\n",
    "\n",
    "# NYC Bike Lanes \n",
    "\n"
   ]
  },
  {
   "cell_type": "code",
   "execution_count": 11,
   "metadata": {},
   "outputs": [],
   "source": [
    "#here I am loading the bike lanes data\n",
    "#note that I am loading all files in the folder, hence I do not specify the data extension (.shp)\n",
    "bike_lane = gpd.read_file('Bicycle Routes')"
   ]
  },
  {
   "cell_type": "code",
   "execution_count": 12,
   "metadata": {},
   "outputs": [
    {
     "data": {
      "text/html": [
       "<div>\n",
       "<style scoped>\n",
       "    .dataframe tbody tr th:only-of-type {\n",
       "        vertical-align: middle;\n",
       "    }\n",
       "\n",
       "    .dataframe tbody tr th {\n",
       "        vertical-align: top;\n",
       "    }\n",
       "\n",
       "    .dataframe thead th {\n",
       "        text-align: right;\n",
       "    }\n",
       "</style>\n",
       "<table border=\"1\" class=\"dataframe\">\n",
       "  <thead>\n",
       "    <tr style=\"text-align: right;\">\n",
       "      <th></th>\n",
       "      <th>allclasses</th>\n",
       "      <th>bikedir</th>\n",
       "      <th>boro</th>\n",
       "      <th>comments</th>\n",
       "      <th>facilitycl</th>\n",
       "      <th>fromstreet</th>\n",
       "      <th>ft2facilit</th>\n",
       "      <th>ft_facilit</th>\n",
       "      <th>lanecount</th>\n",
       "      <th>onoffst</th>\n",
       "      <th>segmentid</th>\n",
       "      <th>shape_leng</th>\n",
       "      <th>street</th>\n",
       "      <th>tf2facilit</th>\n",
       "      <th>tf_facilit</th>\n",
       "      <th>tostreet</th>\n",
       "      <th>geometry</th>\n",
       "    </tr>\n",
       "  </thead>\n",
       "  <tbody>\n",
       "    <tr>\n",
       "      <th>0</th>\n",
       "      <td>I</td>\n",
       "      <td>2</td>\n",
       "      <td>5.0</td>\n",
       "      <td>None</td>\n",
       "      <td>I</td>\n",
       "      <td>HYLAN BLVD</td>\n",
       "      <td>None</td>\n",
       "      <td>Greenway</td>\n",
       "      <td>2.0</td>\n",
       "      <td>OFF</td>\n",
       "      <td>53.0</td>\n",
       "      <td>131.771990</td>\n",
       "      <td>CONFERENCE HOUSE PARK GREENWAY</td>\n",
       "      <td>None</td>\n",
       "      <td>Greenway</td>\n",
       "      <td>SWINNERTON ST</td>\n",
       "      <td>LINESTRING (-74.24993 40.50088, -74.24969 40.5...</td>\n",
       "    </tr>\n",
       "    <tr>\n",
       "      <th>1</th>\n",
       "      <td>I</td>\n",
       "      <td>2</td>\n",
       "      <td>5.0</td>\n",
       "      <td>None</td>\n",
       "      <td>I</td>\n",
       "      <td>HYLAN BLVD</td>\n",
       "      <td>None</td>\n",
       "      <td>Greenway</td>\n",
       "      <td>2.0</td>\n",
       "      <td>OFF</td>\n",
       "      <td>57.0</td>\n",
       "      <td>268.689582</td>\n",
       "      <td>CONFERENCE HOUSE PARK GREENWAY</td>\n",
       "      <td>None</td>\n",
       "      <td>Greenway</td>\n",
       "      <td>SWINNERTON ST</td>\n",
       "      <td>LINESTRING (-74.24916 40.49872, -74.24935 40.4...</td>\n",
       "    </tr>\n",
       "    <tr>\n",
       "      <th>2</th>\n",
       "      <td>I</td>\n",
       "      <td>2</td>\n",
       "      <td>5.0</td>\n",
       "      <td>None</td>\n",
       "      <td>I</td>\n",
       "      <td>HYLAN BLVD</td>\n",
       "      <td>None</td>\n",
       "      <td>Greenway</td>\n",
       "      <td>2.0</td>\n",
       "      <td>OFF</td>\n",
       "      <td>59.0</td>\n",
       "      <td>420.193253</td>\n",
       "      <td>CONFERENCE HOUSE PARK GREENWAY</td>\n",
       "      <td>None</td>\n",
       "      <td>Greenway</td>\n",
       "      <td>SWINNERTON ST</td>\n",
       "      <td>LINESTRING (-74.24935 40.49944, -74.24969 40.5...</td>\n",
       "    </tr>\n",
       "    <tr>\n",
       "      <th>3</th>\n",
       "      <td>I</td>\n",
       "      <td>2</td>\n",
       "      <td>5.0</td>\n",
       "      <td>None</td>\n",
       "      <td>I</td>\n",
       "      <td>HYLAN BLVD</td>\n",
       "      <td>None</td>\n",
       "      <td>Greenway</td>\n",
       "      <td>2.0</td>\n",
       "      <td>OFF</td>\n",
       "      <td>61.0</td>\n",
       "      <td>238.242198</td>\n",
       "      <td>CONFERENCE HOUSE PARK GREENWAY</td>\n",
       "      <td>None</td>\n",
       "      <td>Greenway</td>\n",
       "      <td>SWINNERTON ST</td>\n",
       "      <td>LINESTRING (-74.25185 40.50281, -74.25177 40.5...</td>\n",
       "    </tr>\n",
       "    <tr>\n",
       "      <th>4</th>\n",
       "      <td>I</td>\n",
       "      <td>2</td>\n",
       "      <td>5.0</td>\n",
       "      <td>None</td>\n",
       "      <td>I</td>\n",
       "      <td>HYLAN BLVD</td>\n",
       "      <td>None</td>\n",
       "      <td>Greenway</td>\n",
       "      <td>2.0</td>\n",
       "      <td>OFF</td>\n",
       "      <td>64.0</td>\n",
       "      <td>646.293832</td>\n",
       "      <td>CONFERENCE HOUSE PARK GREENWAY</td>\n",
       "      <td>None</td>\n",
       "      <td>Greenway</td>\n",
       "      <td>SWINNERTON ST</td>\n",
       "      <td>LINESTRING (-74.25133 40.50229, -74.24993 40.5...</td>\n",
       "    </tr>\n",
       "  </tbody>\n",
       "</table>\n",
       "</div>"
      ],
      "text/plain": [
       "  allclasses bikedir  boro comments facilitycl  fromstreet ft2facilit  \\\n",
       "0          I       2   5.0     None          I  HYLAN BLVD       None   \n",
       "1          I       2   5.0     None          I  HYLAN BLVD       None   \n",
       "2          I       2   5.0     None          I  HYLAN BLVD       None   \n",
       "3          I       2   5.0     None          I  HYLAN BLVD       None   \n",
       "4          I       2   5.0     None          I  HYLAN BLVD       None   \n",
       "\n",
       "  ft_facilit  lanecount onoffst  segmentid  shape_leng  \\\n",
       "0   Greenway        2.0     OFF       53.0  131.771990   \n",
       "1   Greenway        2.0     OFF       57.0  268.689582   \n",
       "2   Greenway        2.0     OFF       59.0  420.193253   \n",
       "3   Greenway        2.0     OFF       61.0  238.242198   \n",
       "4   Greenway        2.0     OFF       64.0  646.293832   \n",
       "\n",
       "                           street tf2facilit tf_facilit       tostreet  \\\n",
       "0  CONFERENCE HOUSE PARK GREENWAY       None   Greenway  SWINNERTON ST   \n",
       "1  CONFERENCE HOUSE PARK GREENWAY       None   Greenway  SWINNERTON ST   \n",
       "2  CONFERENCE HOUSE PARK GREENWAY       None   Greenway  SWINNERTON ST   \n",
       "3  CONFERENCE HOUSE PARK GREENWAY       None   Greenway  SWINNERTON ST   \n",
       "4  CONFERENCE HOUSE PARK GREENWAY       None   Greenway  SWINNERTON ST   \n",
       "\n",
       "                                            geometry  \n",
       "0  LINESTRING (-74.24993 40.50088, -74.24969 40.5...  \n",
       "1  LINESTRING (-74.24916 40.49872, -74.24935 40.4...  \n",
       "2  LINESTRING (-74.24935 40.49944, -74.24969 40.5...  \n",
       "3  LINESTRING (-74.25185 40.50281, -74.25177 40.5...  \n",
       "4  LINESTRING (-74.25133 40.50229, -74.24993 40.5...  "
      ]
     },
     "execution_count": 12,
     "metadata": {},
     "output_type": "execute_result"
    }
   ],
   "source": [
    "bike_lane.head()"
   ]
  },
  {
   "cell_type": "markdown",
   "metadata": {},
   "source": [
    "Note that we already have a geometry column in the data. This means we can visualize the data right away ----> "
   ]
  },
  {
   "cell_type": "code",
   "execution_count": 13,
   "metadata": {},
   "outputs": [
    {
     "data": {
      "text/plain": [
       "<matplotlib.axes._subplots.AxesSubplot at 0x7fe7a0efec70>"
      ]
     },
     "execution_count": 13,
     "metadata": {},
     "output_type": "execute_result"
    },
    {
     "data": {
      "image/png": "[encoded data removed]",
      "text/plain": [
       "<Figure size 864x864 with 1 Axes>"
      ]
     },
     "metadata": {
      "needs_background": "light"
     },
     "output_type": "display_data"
    }
   ],
   "source": [
    "bike_lane.plot( color='red',legend=True,figsize=(12, 12),markersize=0.1)"
   ]
  },
  {
   "cell_type": "markdown",
   "metadata": {},
   "source": [
    "Now let's check out more functionalities.. "
   ]
  },
  {
   "cell_type": "code",
   "execution_count": 14,
   "metadata": {},
   "outputs": [
    {
     "data": {
      "text/plain": [
       "Index(['allclasses', 'bikedir', 'boro', 'comments', 'facilitycl', 'fromstreet',\n",
       "       'ft2facilit', 'ft_facilit', 'lanecount', 'onoffst', 'segmentid',\n",
       "       'shape_leng', 'street', 'tf2facilit', 'tf_facilit', 'tostreet',\n",
       "       'geometry'],\n",
       "      dtype='object')"
      ]
     },
     "execution_count": 14,
     "metadata": {},
     "output_type": "execute_result"
    }
   ],
   "source": [
    "#knowing what the columns in the data\n",
    "bike_lane.columns"
   ]
  },
  {
   "cell_type": "markdown",
   "metadata": {},
   "source": [
    "I now want to filter the data and display it by the boro column. Note the boro columns contains numeric values (1-5), and not the actual name. Let's check it out: "
   ]
  },
  {
   "cell_type": "code",
   "execution_count": 15,
   "metadata": {},
   "outputs": [
    {
     "data": {
      "text/plain": [
       "0        5.0\n",
       "1        5.0\n",
       "2        5.0\n",
       "3        5.0\n",
       "4        5.0\n",
       "        ... \n",
       "19870    2.0\n",
       "19871    2.0\n",
       "19872    2.0\n",
       "19873    2.0\n",
       "19874    2.0\n",
       "Name: boro, Length: 19875, dtype: float64"
      ]
     },
     "execution_count": 15,
     "metadata": {},
     "output_type": "execute_result"
    }
   ],
   "source": [
    "bike_lane['boro']"
   ]
  },
  {
   "cell_type": "markdown",
   "metadata": {},
   "source": [
    "# Working with the NYC boro codes:\n",
    "\n",
    "These are the numeric code--borough names. \n",
    "\n",
    "1. Manhattan (New York County)\n",
    "2. Bronx (Bronx County)\n",
    "3. Brooklyn (Kings County)\n",
    "4. Queens (Queens County)\n",
    "5. Staten Island (Richmond County)"
   ]
  },
  {
   "cell_type": "code",
   "execution_count": 16,
   "metadata": {},
   "outputs": [
    {
     "data": {
      "text/html": [
       "<div>\n",
       "<style scoped>\n",
       "    .dataframe tbody tr th:only-of-type {\n",
       "        vertical-align: middle;\n",
       "    }\n",
       "\n",
       "    .dataframe tbody tr th {\n",
       "        vertical-align: top;\n",
       "    }\n",
       "\n",
       "    .dataframe thead th {\n",
       "        text-align: right;\n",
       "    }\n",
       "</style>\n",
       "<table border=\"1\" class=\"dataframe\">\n",
       "  <thead>\n",
       "    <tr style=\"text-align: right;\">\n",
       "      <th></th>\n",
       "      <th>allclasses</th>\n",
       "      <th>bikedir</th>\n",
       "      <th>boro</th>\n",
       "      <th>comments</th>\n",
       "      <th>facilitycl</th>\n",
       "      <th>fromstreet</th>\n",
       "      <th>ft2facilit</th>\n",
       "      <th>ft_facilit</th>\n",
       "      <th>lanecount</th>\n",
       "      <th>onoffst</th>\n",
       "      <th>segmentid</th>\n",
       "      <th>shape_leng</th>\n",
       "      <th>street</th>\n",
       "      <th>tf2facilit</th>\n",
       "      <th>tf_facilit</th>\n",
       "      <th>tostreet</th>\n",
       "      <th>geometry</th>\n",
       "    </tr>\n",
       "  </thead>\n",
       "  <tbody>\n",
       "    <tr>\n",
       "      <th>31</th>\n",
       "      <td>II,III</td>\n",
       "      <td>2</td>\n",
       "      <td>1.0</td>\n",
       "      <td>limited access road (parks)</td>\n",
       "      <td>II</td>\n",
       "      <td>W 79 ST</td>\n",
       "      <td>None</td>\n",
       "      <td>Curbside</td>\n",
       "      <td>2.0</td>\n",
       "      <td>OFF</td>\n",
       "      <td>2416.0</td>\n",
       "      <td>440.773031</td>\n",
       "      <td>79 ST NORTH ACCESS RAMP</td>\n",
       "      <td>None</td>\n",
       "      <td>Sharrows</td>\n",
       "      <td>HUDSON RIVER GREENWAY 79TH ST LINK</td>\n",
       "      <td>LINESTRING (-74.19697 40.55756, -74.19602 40.5...</td>\n",
       "    </tr>\n",
       "    <tr>\n",
       "      <th>549</th>\n",
       "      <td>I</td>\n",
       "      <td>2</td>\n",
       "      <td>1.0</td>\n",
       "      <td>None</td>\n",
       "      <td>I</td>\n",
       "      <td>GOVERNORS ISLAND GREENWAY</td>\n",
       "      <td>None</td>\n",
       "      <td>Greenway</td>\n",
       "      <td>2.0</td>\n",
       "      <td>OFF</td>\n",
       "      <td>17971.0</td>\n",
       "      <td>249.343238</td>\n",
       "      <td>GOVERNORS ISLAND GREENWAY</td>\n",
       "      <td>None</td>\n",
       "      <td>Greenway</td>\n",
       "      <td>GOVERNORS ISLAND GREENWAY</td>\n",
       "      <td>LINESTRING (-74.02114 40.68514, -74.02191 40.6...</td>\n",
       "    </tr>\n",
       "    <tr>\n",
       "      <th>550</th>\n",
       "      <td>I</td>\n",
       "      <td>2</td>\n",
       "      <td>1.0</td>\n",
       "      <td>None</td>\n",
       "      <td>I</td>\n",
       "      <td>GOVERNORS ISLAND GREENWAY</td>\n",
       "      <td>None</td>\n",
       "      <td>Greenway</td>\n",
       "      <td>2.0</td>\n",
       "      <td>OFF</td>\n",
       "      <td>17975.0</td>\n",
       "      <td>291.379429</td>\n",
       "      <td>GOVERNORS ISLAND GREENWAY</td>\n",
       "      <td>None</td>\n",
       "      <td>Greenway</td>\n",
       "      <td>GOVERNORS ISLAND GREENWAY</td>\n",
       "      <td>LINESTRING (-74.02024 40.68555, -74.02114 40.6...</td>\n",
       "    </tr>\n",
       "  </tbody>\n",
       "</table>\n",
       "</div>"
      ],
      "text/plain": [
       "    allclasses bikedir  boro                     comments facilitycl  \\\n",
       "31      II,III       2   1.0  limited access road (parks)         II   \n",
       "549          I       2   1.0                         None          I   \n",
       "550          I       2   1.0                         None          I   \n",
       "\n",
       "                    fromstreet ft2facilit ft_facilit  lanecount onoffst  \\\n",
       "31                     W 79 ST       None   Curbside        2.0     OFF   \n",
       "549  GOVERNORS ISLAND GREENWAY       None   Greenway        2.0     OFF   \n",
       "550  GOVERNORS ISLAND GREENWAY       None   Greenway        2.0     OFF   \n",
       "\n",
       "     segmentid  shape_leng                     street tf2facilit tf_facilit  \\\n",
       "31      2416.0  440.773031    79 ST NORTH ACCESS RAMP       None   Sharrows   \n",
       "549    17971.0  249.343238  GOVERNORS ISLAND GREENWAY       None   Greenway   \n",
       "550    17975.0  291.379429  GOVERNORS ISLAND GREENWAY       None   Greenway   \n",
       "\n",
       "                               tostreet  \\\n",
       "31   HUDSON RIVER GREENWAY 79TH ST LINK   \n",
       "549           GOVERNORS ISLAND GREENWAY   \n",
       "550           GOVERNORS ISLAND GREENWAY   \n",
       "\n",
       "                                              geometry  \n",
       "31   LINESTRING (-74.19697 40.55756, -74.19602 40.5...  \n",
       "549  LINESTRING (-74.02114 40.68514, -74.02191 40.6...  \n",
       "550  LINESTRING (-74.02024 40.68555, -74.02114 40.6...  "
      ]
     },
     "execution_count": 16,
     "metadata": {},
     "output_type": "execute_result"
    }
   ],
   "source": [
    "#let's filter to only have Manhattan's bike lanes: \n",
    "\n",
    "bike_lane[bike_lane['boro']==1].head(3)"
   ]
  },
  {
   "cell_type": "code",
   "execution_count": 17,
   "metadata": {},
   "outputs": [
    {
     "data": {
      "text/plain": [
       "5396"
      ]
     },
     "execution_count": 17,
     "metadata": {},
     "output_type": "execute_result"
    }
   ],
   "source": [
    "len(bike_lane[bike_lane['boro']==1])"
   ]
  },
  {
   "cell_type": "markdown",
   "metadata": {},
   "source": [
    "We get only bike lanes that are inside Manhattan, there are a total of 5266 of them!\n",
    "\n",
    "# Filter data to plot one borough at time\n",
    "\n",
    "This feature is extremely useful to narrow down the map scope, but it requires having categories in the data to work with. Luckily for us the bike lane data comes with the boro code so this is all pretty straight forward. If this was not imidiatly available to us we could have merge with the borough layer for example (we will see how to marge geo data frames in the 2dn section of this class). "
   ]
  },
  {
   "cell_type": "code",
   "execution_count": null,
   "metadata": {},
   "outputs": [],
   "source": [
    "#now let's plot them: \n",
    "\n",
    "bike_lane[bike_lane['boro']==1].plot(color='k')\n",
    "plt.axis('off')\n",
    "plt.show()"
   ]
  },
  {
   "cell_type": "code",
   "execution_count": null,
   "metadata": {},
   "outputs": [],
   "source": [
    "#plot the Bronx bike lanes\n",
    "\n",
    "bike_lane[bike_lane['boro']==2].plot(color='k')\n",
    "plt.axis('off')\n",
    "plt.show()"
   ]
  },
  {
   "cell_type": "code",
   "execution_count": null,
   "metadata": {},
   "outputs": [],
   "source": [
    "#plot bike lanes for Brooklyn only \n",
    "bike_lane[bike_lane['boro']==3].plot(figsize=(8, 7),color='k')\n",
    "plt.axis('off')\n",
    "plt.show()"
   ]
  },
  {
   "cell_type": "code",
   "execution_count": null,
   "metadata": {},
   "outputs": [],
   "source": [
    "#plot Queens only: \n",
    "bike_lane[bike_lane['boro']==4].plot(color='k')\n",
    "plt.axis('off')\n",
    "plt.show()"
   ]
  },
  {
   "cell_type": "code",
   "execution_count": null,
   "metadata": {},
   "outputs": [],
   "source": [
    "#and finaly, plot Staten Island \n",
    "bike_lane[bike_lane['boro']==5].plot(color='k')\n",
    "plt.axis('off')\n",
    "plt.show()"
   ]
  },
  {
   "cell_type": "code",
   "execution_count": null,
   "metadata": {},
   "outputs": [],
   "source": [
    "# count number of bike lanes per boro :\n",
    "\n",
    "print ('Manhattan # of bike lanes',len(bike_lane[bike_lane['boro']==1]))\n",
    "print ('Staten Island # of bike lanes',len(bike_lane[bike_lane['boro']==5]))\n",
    "print ('Bronx # of bike lanes',len(bike_lane[bike_lane['boro']==2]))\n",
    "print ('Brooklyn # of bike lanes',len(bike_lane[bike_lane['boro']==3]))\n",
    "print ('Queens # of bike lanes',len(bike_lane[bike_lane['boro']==4]))\n",
    "print ('Staten Island # of bike lanes',len(bike_lane[bike_lane['boro']==5]))"
   ]
  },
  {
   "cell_type": "markdown",
   "metadata": {},
   "source": [
    "## Types of bikelanes\n",
    "\n",
    "As we will see soon ,the NYC bike lane data can get us the specifics of the each bike lane type. Let's look into two columns to learn more about the types of bike lanes: \n",
    "1. ft_facilit\n",
    "2. tf_facilit"
   ]
  },
  {
   "cell_type": "code",
   "execution_count": null,
   "metadata": {},
   "outputs": [],
   "source": [
    "\n",
    "bike_lane.ft_facilit.unique()"
   ]
  },
  {
   "cell_type": "code",
   "execution_count": null,
   "metadata": {},
   "outputs": [],
   "source": [
    "\n",
    "bike_lane.tf_facilit.unique()"
   ]
  },
  {
   "cell_type": "markdown",
   "metadata": {},
   "source": [
    "They both seem to have mostly the same categories, when ft_facilit seem to have slightly simpler. But the tf_facilit gives us more intresting details that's why I chose it. \n",
    "\n",
    "Let's plot the data so that it is diplayed only "
   ]
  },
  {
   "cell_type": "code",
   "execution_count": null,
   "metadata": {},
   "outputs": [],
   "source": [
    "ax = bike_lane.plot(column='tf_facilit',legend=True,figsize=(12, 20), alpha = 0.6,markersize=2)\n",
    "\n",
    "plt.title('bike lane map by type')\n",
    "\n",
    "plt.axis('off')\n",
    "\n",
    "\n",
    "plt.show()"
   ]
  },
  {
   "cell_type": "code",
   "execution_count": null,
   "metadata": {},
   "outputs": [],
   "source": [
    "#let's see the number of rows per unique value of bike path type: \n",
    "bike_lane['tf_facilit'].value_counts()"
   ]
  },
  {
   "cell_type": "code",
   "execution_count": null,
   "metadata": {},
   "outputs": [],
   "source": [
    "# plot only MN by bike lane type:\n",
    "\n",
    "bike_laneMN = bike_lane[bike_lane['boro']==1]"
   ]
  },
  {
   "cell_type": "code",
   "execution_count": null,
   "metadata": {},
   "outputs": [],
   "source": [
    "labels = bike_laneMN.tf_facilit\n",
    "\n",
    "ax = bike_laneMN.plot(column='tf_facilit', figsize=(10, 15), alpha = 0.6,markersize=2)\n",
    "#ax.legend()\n",
    "plt.title('bike lane map by type, MN')\n",
    "\n",
    "plt.axis('off')\n",
    "#plt.xlim(500000,588000)\n",
    "#plt.ylim(4200000,4520000)\n",
    "plt.show()"
   ]
  },
  {
   "cell_type": "markdown",
   "metadata": {},
   "source": [
    "## Ploygon data: Senior Priority Zones: \n",
    "\n"
   ]
  },
  {
   "cell_type": "code",
   "execution_count": null,
   "metadata": {},
   "outputs": [],
   "source": [
    "safe_streeets = gpd.read_file(\"VZV_Safe Streets for Seniors\")"
   ]
  },
  {
   "cell_type": "code",
   "execution_count": null,
   "metadata": {},
   "outputs": [],
   "source": [
    "safe_streeets.crs"
   ]
  },
  {
   "cell_type": "code",
   "execution_count": null,
   "metadata": {},
   "outputs": [],
   "source": [
    "safe_streeets.head()"
   ]
  },
  {
   "cell_type": "code",
   "execution_count": null,
   "metadata": {},
   "outputs": [],
   "source": [
    "#what are the polygons area? \n",
    "safe_streeets.geometry.area.head()"
   ]
  },
  {
   "cell_type": "code",
   "execution_count": null,
   "metadata": {},
   "outputs": [],
   "source": [
    "\n",
    "safe_streeets.plot(color='red',figsize=(12, 12),markersize=0.1)\n",
    "plt.axis('off')\n",
    "plt.title('senior safe zones')\n",
    "\n",
    "plt.show()"
   ]
  },
  {
   "cell_type": "markdown",
   "metadata": {},
   "source": [
    "## Add a point layer: senior centers \n",
    "\n",
    "Here we will add a layer of senior centers that the DOT works with. We will try to overlay one with the senior safe zone to see how many senior centers fall inside the safety zones. "
   ]
  },
  {
   "cell_type": "code",
   "execution_count": null,
   "metadata": {},
   "outputs": [],
   "source": [
    "#load the shapfile\n",
    "senior_centers = gpd.read_file(\"VZV_Senior Centers\")"
   ]
  },
  {
   "cell_type": "code",
   "execution_count": null,
   "metadata": {},
   "outputs": [],
   "source": [
    "#what are the columns in the data\n",
    "senior_centers.columns"
   ]
  },
  {
   "cell_type": "code",
   "execution_count": null,
   "metadata": {},
   "outputs": [],
   "source": [
    "senior_centers.plot(figsize=(15, 15),legend=True,markersize=2)\n",
    "plt.axis('off')\n",
    "plt.title('senior centers')\n",
    "plt.show()"
   ]
  },
  {
   "cell_type": "markdown",
   "metadata": {},
   "source": [
    "# Overlay multiple layers on Pyplot: \n",
    "\n",
    "Can we intersect safe zones and senior centers?"
   ]
  },
  {
   "cell_type": "code",
   "execution_count": null,
   "metadata": {},
   "outputs": [],
   "source": [
    "#what is the projection of senior safe zones?\n",
    "safe_streeets.crs"
   ]
  },
  {
   "cell_type": "code",
   "execution_count": null,
   "metadata": {},
   "outputs": [],
   "source": [
    "#what is the projection of senior centers?\n",
    "senior_centers.crs"
   ]
  },
  {
   "cell_type": "markdown",
   "metadata": {},
   "source": [
    "Both look the same so we should be good to go with overlaying both. "
   ]
  },
  {
   "cell_type": "code",
   "execution_count": null,
   "metadata": {},
   "outputs": [],
   "source": [
    "#first we need to set up the layer that is going to be used \n",
    "base = safe_streeets.plot(color='white',legend=True,figsize=(20, 12), edgecolor='black')\n",
    "#now add the senior centers layer: \n",
    "senior_centers.plot(ax=base, marker='o', color='red', markersize=4);\n",
    "\n",
    "\n",
    "plt.axis('off')"
   ]
  },
  {
   "cell_type": "markdown",
   "metadata": {},
   "source": [
    "## Bonus: Add map background"
   ]
  },
  {
   "cell_type": "code",
   "execution_count": null,
   "metadata": {},
   "outputs": [],
   "source": [
    "import contextily as ctx"
   ]
  },
  {
   "cell_type": "code",
   "execution_count": null,
   "metadata": {},
   "outputs": [],
   "source": [
    "bike_lane = bike_lane.to_crs(epsg=3857)"
   ]
  },
  {
   "cell_type": "code",
   "execution_count": null,
   "metadata": {},
   "outputs": [],
   "source": [
    "# from:https://share.cocalc.com/share/56cef78b3fda5e0338c2da71b222e6b275a9193e/contextily.ipynb?viewer=share "
   ]
  },
  {
   "cell_type": "code",
   "execution_count": null,
   "metadata": {},
   "outputs": [],
   "source": [
    "def add_basemap(ax, zoom, url='http://tile.stamen.com/terrain/tileZ/tileX/tileY.png'):\n",
    "    xmin, xmax, ymin, ymax = ax.axis()\n",
    "    basemap, extent = ctx.bounds2img(xmin, ymin, xmax, ymax, zoom=zoom, url=url)\n",
    "    ax.imshow(basemap, extent=extent, interpolation='bilinear')\n",
    "    \n",
    "    ax.axis((xmin, xmax, ymin, ymax))\n",
    "    \n",
    "    "
   ]
  },
  {
   "cell_type": "code",
   "execution_count": null,
   "metadata": {},
   "outputs": [],
   "source": [
    "ax = bike_lane.plot(figsize=(10, 10), edgecolor='b')\n",
    "ctx.add_basemap(ax, zoom=12)\n",
    "ax.set_axis_off()"
   ]
  },
  {
   "cell_type": "markdown",
   "metadata": {},
   "source": [
    "## Class assignment\n",
    "\n",
    "Using any publilcy available data, display the proximity of bike lanes to two important city amenities of your choice. Choose only two boroughs from the city 5 boroughs to display both bike lanes and the amenities for only those two boroughs. Compare the proximity between both selected boroughs. \n",
    "\n",
    "What are some of the conclusions that come to mind when thinking about how bike lanes are distributed across the city boroughs? Given your analysis, are there any areas that seem to be lacking bike lanes? If so, where?\n",
    "\n",
    "\n",
    "\n",
    "\n",
    "\n",
    "\n",
    "\n"
   ]
  },
  {
   "cell_type": "code",
   "execution_count": null,
   "metadata": {},
   "outputs": [],
   "source": []
  }
 ],
 "metadata": {
  "kernelspec": {
   "display_name": "Python 3",
   "language": "python",
   "name": "python3"
  },
  "language_info": {
   "codemirror_mode": {
    "name": "ipython",
    "version": 3
   },
   "file_extension": ".py",
   "mimetype": "text/x-python",
   "name": "python",
   "nbconvert_exporter": "python",
   "pygments_lexer": "ipython3",
   "version": "3.8.5"
  }
 },
 "nbformat": 4,
 "nbformat_minor": 4
}
